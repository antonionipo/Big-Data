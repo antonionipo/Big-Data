{
  "nbformat": 4,
  "nbformat_minor": 0,
  "metadata": {
    "colab": {
      "provenance": [],
      "authorship_tag": "ABX9TyMxabpl/jYcAdxXDLo9oppz",
      "include_colab_link": true
    },
    "kernelspec": {
      "name": "python3",
      "display_name": "Python 3"
    },
    "language_info": {
      "name": "python"
    }
  },
  "cells": [
    {
      "cell_type": "markdown",
      "metadata": {
        "id": "view-in-github",
        "colab_type": "text"
      },
      "source": [
        "<a href=\"https://colab.research.google.com/github/antonionipo/Big-Data/blob/main/Leitura_PySpark.ipynb\" target=\"_parent\"><img src=\"https://colab.research.google.com/assets/colab-badge.svg\" alt=\"Open In Colab\"/></a>"
      ]
    },
    {
      "cell_type": "code",
      "execution_count": 1,
      "metadata": {
        "colab": {
          "base_uri": "https://localhost:8080/"
        },
        "id": "pUEXJjbHs2Pb",
        "outputId": "a84fdfde-584a-466b-8a1c-ed2631d7d3b1"
      },
      "outputs": [
        {
          "output_type": "stream",
          "name": "stdout",
          "text": [
            "Requirement already satisfied: pyspark in /usr/local/lib/python3.11/dist-packages (3.5.4)\n",
            "Requirement already satisfied: py4j==0.10.9.7 in /usr/local/lib/python3.11/dist-packages (from pyspark) (0.10.9.7)\n"
          ]
        }
      ],
      "source": [
        "!pip install pyspark"
      ]
    },
    {
      "cell_type": "code",
      "source": [
        "from pyspark.sql import SparkSession"
      ],
      "metadata": {
        "id": "nsuCJhe9tETU"
      },
      "execution_count": 2,
      "outputs": []
    },
    {
      "cell_type": "code",
      "source": [
        "spark = SparkSession.builder.appName('Meu primeiro Dataframe').getOrCreate()"
      ],
      "metadata": {
        "id": "Gg8cV4LgtKaB"
      },
      "execution_count": 3,
      "outputs": []
    },
    {
      "cell_type": "code",
      "source": [
        "df = spark.read.csv('./base_de_dados.csv')\n",
        "df.show()"
      ],
      "metadata": {
        "colab": {
          "base_uri": "https://localhost:8080/"
        },
        "id": "NYkXoSgvtWM-",
        "outputId": "bef2547a-bc9e-487c-c53c-ae25c441a939"
      },
      "execution_count": 6,
      "outputs": [
        {
          "output_type": "stream",
          "name": "stdout",
          "text": [
            "+--------------------+\n",
            "|                 _c0|\n",
            "+--------------------+\n",
            "|id;valor;parte_de...|\n",
            "|1;9.93;Dra. Ana C...|\n",
            "|2;15.38;Ana Calde...|\n",
            "|3;57.58;Arthur Go...|\n",
            "|4;53705.13;Ana Ju...|\n",
            "|5;25299.69;Srta. ...|\n",
            "|6;7165.06;Gabriel...|\n",
            "|7;6.16;Heloisa da...|\n",
            "|8;136.36;Srta. Is...|\n",
            "|9;574.39;Dr. Luca...|\n",
            "|10;42.88;Mirella ...|\n",
            "|11;33629.97;Sr. V...|\n",
            "|12;4374.56;Nathan...|\n",
            "|13;507.18;Miguel ...|\n",
            "|14;67758.87;Julia...|\n",
            "|15;815.53;Ana Lau...|\n",
            "|16;2.73;Levi Lima...|\n",
            "|17;0.54;Otavio Cu...|\n",
            "|18;49836.72;Ana C...|\n",
            "|19;9.68;Levi Mart...|\n",
            "+--------------------+\n",
            "only showing top 20 rows\n",
            "\n"
          ]
        }
      ]
    },
    {
      "cell_type": "code",
      "source": [
        "df = spark.read.csv('./base_de_dados.csv', header=True)\n",
        "df.show()"
      ],
      "metadata": {
        "colab": {
          "base_uri": "https://localhost:8080/"
        },
        "id": "8hVL_6-ou5w8",
        "outputId": "4cd740c0-6231-4157-e8ae-d83455a641cc"
      },
      "execution_count": 7,
      "outputs": [
        {
          "output_type": "stream",
          "name": "stdout",
          "text": [
            "+-------------------------------------------------------------------------------------------------------------------------------------------------------------------------------------+\n",
            "|id;valor;parte_debitada_nome;parte_debitada_conta;parte_debitada_banco;parte_creditada_nome;parte_creditada_conta;parte_creditada_banco;chave_pix_tipo;chave_pix_valor;data_transacao|\n",
            "+-------------------------------------------------------------------------------------------------------------------------------------------------------------------------------------+\n",
            "|                                                                                                                                                                 1;9.93;Dra. Ana C...|\n",
            "|                                                                                                                                                                 2;15.38;Ana Calde...|\n",
            "|                                                                                                                                                                 3;57.58;Arthur Go...|\n",
            "|                                                                                                                                                                 4;53705.13;Ana Ju...|\n",
            "|                                                                                                                                                                 5;25299.69;Srta. ...|\n",
            "|                                                                                                                                                                 6;7165.06;Gabriel...|\n",
            "|                                                                                                                                                                 7;6.16;Heloisa da...|\n",
            "|                                                                                                                                                                 8;136.36;Srta. Is...|\n",
            "|                                                                                                                                                                 9;574.39;Dr. Luca...|\n",
            "|                                                                                                                                                                 10;42.88;Mirella ...|\n",
            "|                                                                                                                                                                 11;33629.97;Sr. V...|\n",
            "|                                                                                                                                                                 12;4374.56;Nathan...|\n",
            "|                                                                                                                                                                 13;507.18;Miguel ...|\n",
            "|                                                                                                                                                                 14;67758.87;Julia...|\n",
            "|                                                                                                                                                                 15;815.53;Ana Lau...|\n",
            "|                                                                                                                                                                 16;2.73;Levi Lima...|\n",
            "|                                                                                                                                                                 17;0.54;Otavio Cu...|\n",
            "|                                                                                                                                                                 18;49836.72;Ana C...|\n",
            "|                                                                                                                                                                 19;9.68;Levi Mart...|\n",
            "|                                                                                                                                                                 20;9837.22;Noah C...|\n",
            "+-------------------------------------------------------------------------------------------------------------------------------------------------------------------------------------+\n",
            "only showing top 20 rows\n",
            "\n"
          ]
        }
      ]
    },
    {
      "cell_type": "code",
      "source": [
        "df = spark.read.csv('./base_de_dados.csv', header=True, sep=';')\n",
        "df.show()"
      ],
      "metadata": {
        "colab": {
          "base_uri": "https://localhost:8080/"
        },
        "id": "NQsuG29FvUdr",
        "outputId": "fe73f6df-6b8a-4349-9b99-742dda6d3895"
      },
      "execution_count": 8,
      "outputs": [
        {
          "output_type": "stream",
          "name": "stdout",
          "text": [
            "+---+--------+--------------------+--------------------+--------------------+--------------------+---------------------+---------------------+--------------+---------------+----------------+\n",
            "| id|   valor| parte_debitada_nome|parte_debitada_conta|parte_debitada_banco|parte_creditada_nome|parte_creditada_conta|parte_creditada_banco|chave_pix_tipo|chave_pix_valor|  data_transacao|\n",
            "+---+--------+--------------------+--------------------+--------------------+--------------------+---------------------+---------------------+--------------+---------------+----------------+\n",
            "|  1|    9.93|Dra. Ana Carolina...|            79470453|              Nubank|       Maysa da Cruz|             67162333|                 Itau|           cpf|     8439752610|18/02/2022 13:28|\n",
            "|  2|   15.38|        Ana Caldeira|            19689668|                Itau|        Evelyn Sales|             60005091|             Bradesco|           cpf|    27145380617|08/04/2022 01:47|\n",
            "|  3|   57.58|    Arthur Goncalves|            18856899|            Bradesco|          Maria Melo|             13496303|                  BTG|           cpf|    16452937006|14/07/2022 03:18|\n",
            "|  4|53705.13|  Ana Julia Caldeira|            22834741|                Itau|   Ana Livia Almeida|             44695116|               Nubank|           cpf|    26590384142|15/01/2022 18:06|\n",
            "|  5|25299.69|  Srta. Nicole Pinto|             3715882|              Nubank|Srta. Ana Laura d...|             21409465|               Nubank|           cpf|    73486105280|13/05/2022 11:04|\n",
            "|  6| 7165.06|   Gabriela Ferreira|             2243037|              Nubank|       Larissa Souza|             10689552|                 Itau|           cpf|    96845371237|11/09/2022 13:38|\n",
            "|  7|    6.16|    Heloisa da Rocha|            59778949|                 BTG|Dra. Vitoria Silv...|             56583792|               Nubank|           cpf|    89064175357|10/12/2021 12:37|\n",
            "|  8|  136.36|Srta. Isadora Cor...|            77102442|              Nubank|  Francisco da Costa|             96088386|               Nubank|           cpf|    85907632429|30/12/2021 23:18|\n",
            "|  9|  574.39|   Dr. Lucas da Cruz|            38501170|                 BTG|       Calebe da Luz|             19365554|             Bradesco|           cpf|    64720189520|21/06/2021 07:20|\n",
            "| 10|   42.88|     Mirella Martins|            29535709|            Bradesco|        Danilo Lopes|             60064650|                 Itau|           cpf|    87014935232|21/09/2022 17:19|\n",
            "| 11|33629.97|Sr. Vitor Gabriel...|            67010663|                 BTG|Sra. Lavinia Cald...|             48145941|               Nubank|           cpf|    63542098124|12/09/2022 00:29|\n",
            "| 12| 4374.56|      Nathan Peixoto|            22975623|              Nubank|        Diogo da Luz|             30302218|             Bradesco|           cpf|    72908154323|07/08/2022 17:01|\n",
            "| 13|  507.18|       Miguel Araujo|            75113657|              Nubank|Marcos Vinicius G...|             67418115|                 Itau|           cpf|    84763129031|07/03/2021 12:34|\n",
            "| 14|67758.87|     Juliana Correia|             4495167|                Itau|    Davi Lucas Porto|             94395923|                  BTG|           cpf|    97804215649|24/03/2021 22:58|\n",
            "| 15|  815.53|     Ana Laura Souza|            79650252|                Itau|        Isabel Costa|             28762988|                  BTG|           cpf|    51824039689|21/02/2022 11:25|\n",
            "| 16|    2.73|           Levi Lima|            73815441|                 BTG|Dra. Maria Luiza ...|             96594203|             Bradesco|           cpf|    94516738066|20/07/2021 09:17|\n",
            "| 17|    0.54|        Otavio Cunha|            85583961|            Bradesco|       Elisa Moreira|             97003354|             Bradesco|           cpf|    15248769094|16/02/2022 10:16|\n",
            "| 18|49836.72|Ana Carolina Oliv...|            80200942|                Itau|    Stella Fernandes|             31579145|                  BTG|           cpf|    47609381250|18/07/2022 22:46|\n",
            "| 19|    9.68|        Levi Martins|            12349481|                Itau|Joao Guilherme Me...|             31102492|                  BTG|       celular|    11916824404|26/02/2022 15:05|\n",
            "| 20| 9837.22|          Noah Cunha|            84622162|            Bradesco|         Juan Mendes|             97805965|             Bradesco|       celular|    11944547225|22/06/2021 05:39|\n",
            "+---+--------+--------------------+--------------------+--------------------+--------------------+---------------------+---------------------+--------------+---------------+----------------+\n",
            "only showing top 20 rows\n",
            "\n"
          ]
        }
      ]
    },
    {
      "cell_type": "code",
      "source": [
        "df.printSchema()"
      ],
      "metadata": {
        "colab": {
          "base_uri": "https://localhost:8080/"
        },
        "id": "IXC7LnOavZAo",
        "outputId": "5a78a229-1915-4055-87b0-3cf476a78a7d"
      },
      "execution_count": 9,
      "outputs": [
        {
          "output_type": "stream",
          "name": "stdout",
          "text": [
            "root\n",
            " |-- id: string (nullable = true)\n",
            " |-- valor: string (nullable = true)\n",
            " |-- parte_debitada_nome: string (nullable = true)\n",
            " |-- parte_debitada_conta: string (nullable = true)\n",
            " |-- parte_debitada_banco: string (nullable = true)\n",
            " |-- parte_creditada_nome: string (nullable = true)\n",
            " |-- parte_creditada_conta: string (nullable = true)\n",
            " |-- parte_creditada_banco: string (nullable = true)\n",
            " |-- chave_pix_tipo: string (nullable = true)\n",
            " |-- chave_pix_valor: string (nullable = true)\n",
            " |-- data_transacao: string (nullable = true)\n",
            "\n"
          ]
        }
      ]
    },
    {
      "cell_type": "code",
      "source": [],
      "metadata": {
        "id": "NQh0fgyDw2r4"
      },
      "execution_count": null,
      "outputs": []
    }
  ]
}
