{
  "nbformat": 4,
  "nbformat_minor": 0,
  "metadata": {
    "colab": {
      "provenance": [],
      "include_colab_link": true
    },
    "kernelspec": {
      "name": "python3",
      "display_name": "Python 3"
    },
    "language_info": {
      "name": "python"
    }
  },
  "cells": [
    {
      "cell_type": "markdown",
      "metadata": {
        "id": "view-in-github",
        "colab_type": "text"
      },
      "source": [
        "<a href=\"https://colab.research.google.com/github/antonionipo/Big-Data/blob/main/Introducao%20PySpark/Escrita_de_dados.ipynb\" target=\"_parent\"><img src=\"https://colab.research.google.com/assets/colab-badge.svg\" alt=\"Open In Colab\"/></a>"
      ]
    },
    {
      "cell_type": "code",
      "execution_count": 2,
      "metadata": {
        "colab": {
          "base_uri": "https://localhost:8080/"
        },
        "id": "qaDwiHPONa-N",
        "outputId": "8d7b18f3-7567-46fb-86ba-8d6541af51ae"
      },
      "outputs": [
        {
          "output_type": "stream",
          "name": "stdout",
          "text": [
            "Requirement already satisfied: pyspark in /usr/local/lib/python3.11/dist-packages (3.5.4)\n",
            "Requirement already satisfied: py4j==0.10.9.7 in /usr/local/lib/python3.11/dist-packages (from pyspark) (0.10.9.7)\n"
          ]
        }
      ],
      "source": [
        "!pip install pyspark"
      ]
    },
    {
      "cell_type": "code",
      "source": [
        "from pyspark.sql import SparkSession"
      ],
      "metadata": {
        "id": "zGJjAcHvNd44"
      },
      "execution_count": 3,
      "outputs": []
    },
    {
      "cell_type": "code",
      "source": [
        "spark = SparkSession.builder.appName('Lendo CSV').getOrCreate()"
      ],
      "metadata": {
        "id": "hoX7Ac7XNgpn"
      },
      "execution_count": 4,
      "outputs": []
    },
    {
      "cell_type": "code",
      "source": [
        "caminho_csv = './base_de_dados.csv'\n",
        "\n",
        "df = spark.read.csv(\n",
        "    path=caminho_csv,\n",
        "    header=True,\n",
        "    sep=';'\n",
        "    )"
      ],
      "metadata": {
        "id": "Z1mlRJ_tNqzK"
      },
      "execution_count": 5,
      "outputs": []
    },
    {
      "cell_type": "code",
      "source": [
        "df.schema.fieldNames()"
      ],
      "metadata": {
        "colab": {
          "base_uri": "https://localhost:8080/"
        },
        "id": "z85_igenODm7",
        "outputId": "40977fdb-0b14-4c56-8eb2-d013a750c16a"
      },
      "execution_count": 6,
      "outputs": [
        {
          "output_type": "execute_result",
          "data": {
            "text/plain": [
              "['id',\n",
              " 'valor',\n",
              " 'parte_debitada_nome',\n",
              " 'parte_debitada_conta',\n",
              " 'parte_debitada_banco',\n",
              " 'parte_creditada_nome',\n",
              " 'parte_creditada_conta',\n",
              " 'parte_creditada_banco',\n",
              " 'chave_pix_tipo',\n",
              " 'chave_pix_valor',\n",
              " 'data_transacao']"
            ]
          },
          "metadata": {},
          "execution_count": 6
        }
      ]
    },
    {
      "cell_type": "code",
      "source": [
        "from pyspark.sql.types import StructType, StructField, StringType, IntegerType, TimestampType, DoubleType"
      ],
      "metadata": {
        "id": "VNkqTelLOHkw"
      },
      "execution_count": 7,
      "outputs": []
    },
    {
      "cell_type": "code",
      "source": [
        "schema_pix = StructType([\n",
        "    StructField('id', IntegerType()),\n",
        "    StructField('nome', StringType()),\n",
        "    StructField('sobrenome', StringType()),\n",
        "    StructField('email', StringType()),\n",
        "    StructField('valor', DoubleType()),\n",
        "    StructField('parte_debitada_nome', StringType()),\n",
        "    StructField('parte_debitada_conta', StringType()),\n",
        "    StructField('parte_debitada_banco', StringType()),\n",
        "    StructField('parte_creditada_nome', StringType()),\n",
        "    StructField('parte_creditada_conta', StringType()),\n",
        "    StructField('parte_creditada_banco', StringType()),\n",
        "    StructField('chave_pix_tipo', StringType()),\n",
        "    StructField('chave_pix_valor', StringType()),\n",
        "    StructField('data_transacao', TimestampType())\n",
        "])"
      ],
      "metadata": {
        "id": "jyV-KbrVOStM"
      },
      "execution_count": 8,
      "outputs": []
    },
    {
      "cell_type": "code",
      "source": [
        "caminho_csv = './base_de_dados.csv'\n",
        "\n",
        "df = spark.read.csv(\n",
        "    path=caminho_csv,\n",
        "    header=True,\n",
        "    sep=';',\n",
        "    schema=schema_pix\n",
        "    )\n"
      ],
      "metadata": {
        "id": "h8drInXaPLwC"
      },
      "execution_count": 9,
      "outputs": []
    },
    {
      "cell_type": "code",
      "source": [
        "df.printSchema()"
      ],
      "metadata": {
        "colab": {
          "base_uri": "https://localhost:8080/"
        },
        "id": "Z-k0_cuGQJob",
        "outputId": "5993f9e8-47c5-4237-f027-319512dedbc9"
      },
      "execution_count": 10,
      "outputs": [
        {
          "output_type": "stream",
          "name": "stdout",
          "text": [
            "root\n",
            " |-- id: integer (nullable = true)\n",
            " |-- nome: string (nullable = true)\n",
            " |-- sobrenome: string (nullable = true)\n",
            " |-- email: string (nullable = true)\n",
            " |-- valor: double (nullable = true)\n",
            " |-- parte_debitada_nome: string (nullable = true)\n",
            " |-- parte_debitada_conta: string (nullable = true)\n",
            " |-- parte_debitada_banco: string (nullable = true)\n",
            " |-- parte_creditada_nome: string (nullable = true)\n",
            " |-- parte_creditada_conta: string (nullable = true)\n",
            " |-- parte_creditada_banco: string (nullable = true)\n",
            " |-- chave_pix_tipo: string (nullable = true)\n",
            " |-- chave_pix_valor: string (nullable = true)\n",
            " |-- data_transacao: timestamp (nullable = true)\n",
            "\n"
          ]
        }
      ]
    },
    {
      "cell_type": "code",
      "source": [
        "df.show()"
      ],
      "metadata": {
        "colab": {
          "base_uri": "https://localhost:8080/"
        },
        "id": "4hP2BTFLQL1i",
        "outputId": "d24d3e51-5c86-4481-f423-af56ee5f61dc"
      },
      "execution_count": 11,
      "outputs": [
        {
          "output_type": "stream",
          "name": "stdout",
          "text": [
            "+---+--------+--------------------+--------+-----+--------------------+--------------------+--------------------+--------------------+---------------------+---------------------+--------------+---------------+--------------+\n",
            "| id|    nome|           sobrenome|   email|valor| parte_debitada_nome|parte_debitada_conta|parte_debitada_banco|parte_creditada_nome|parte_creditada_conta|parte_creditada_banco|chave_pix_tipo|chave_pix_valor|data_transacao|\n",
            "+---+--------+--------------------+--------+-----+--------------------+--------------------+--------------------+--------------------+---------------------+---------------------+--------------+---------------+--------------+\n",
            "|  1|    9.93|Dra. Ana Carolina...|79470453| NULL|       Maysa da Cruz|            67162333|                Itau|                 cpf|           8439752610|     18/02/2022 13:28|          NULL|           NULL|          NULL|\n",
            "|  2|   15.38|        Ana Caldeira|19689668| NULL|        Evelyn Sales|            60005091|            Bradesco|                 cpf|          27145380617|     08/04/2022 01:47|          NULL|           NULL|          NULL|\n",
            "|  3|   57.58|    Arthur Goncalves|18856899| NULL|          Maria Melo|            13496303|                 BTG|                 cpf|          16452937006|     14/07/2022 03:18|          NULL|           NULL|          NULL|\n",
            "|  4|53705.13|  Ana Julia Caldeira|22834741| NULL|   Ana Livia Almeida|            44695116|              Nubank|                 cpf|          26590384142|     15/01/2022 18:06|          NULL|           NULL|          NULL|\n",
            "|  5|25299.69|  Srta. Nicole Pinto| 3715882| NULL|Srta. Ana Laura d...|            21409465|              Nubank|                 cpf|          73486105280|     13/05/2022 11:04|          NULL|           NULL|          NULL|\n",
            "|  6| 7165.06|   Gabriela Ferreira| 2243037| NULL|       Larissa Souza|            10689552|                Itau|                 cpf|          96845371237|     11/09/2022 13:38|          NULL|           NULL|          NULL|\n",
            "|  7|    6.16|    Heloisa da Rocha|59778949| NULL|Dra. Vitoria Silv...|            56583792|              Nubank|                 cpf|          89064175357|     10/12/2021 12:37|          NULL|           NULL|          NULL|\n",
            "|  8|  136.36|Srta. Isadora Cor...|77102442| NULL|  Francisco da Costa|            96088386|              Nubank|                 cpf|          85907632429|     30/12/2021 23:18|          NULL|           NULL|          NULL|\n",
            "|  9|  574.39|   Dr. Lucas da Cruz|38501170| NULL|       Calebe da Luz|            19365554|            Bradesco|                 cpf|          64720189520|     21/06/2021 07:20|          NULL|           NULL|          NULL|\n",
            "| 10|   42.88|     Mirella Martins|29535709| NULL|        Danilo Lopes|            60064650|                Itau|                 cpf|          87014935232|     21/09/2022 17:19|          NULL|           NULL|          NULL|\n",
            "| 11|33629.97|Sr. Vitor Gabriel...|67010663| NULL|Sra. Lavinia Cald...|            48145941|              Nubank|                 cpf|          63542098124|     12/09/2022 00:29|          NULL|           NULL|          NULL|\n",
            "| 12| 4374.56|      Nathan Peixoto|22975623| NULL|        Diogo da Luz|            30302218|            Bradesco|                 cpf|          72908154323|     07/08/2022 17:01|          NULL|           NULL|          NULL|\n",
            "| 13|  507.18|       Miguel Araujo|75113657| NULL|Marcos Vinicius G...|            67418115|                Itau|                 cpf|          84763129031|     07/03/2021 12:34|          NULL|           NULL|          NULL|\n",
            "| 14|67758.87|     Juliana Correia| 4495167| NULL|    Davi Lucas Porto|            94395923|                 BTG|                 cpf|          97804215649|     24/03/2021 22:58|          NULL|           NULL|          NULL|\n",
            "| 15|  815.53|     Ana Laura Souza|79650252| NULL|        Isabel Costa|            28762988|                 BTG|                 cpf|          51824039689|     21/02/2022 11:25|          NULL|           NULL|          NULL|\n",
            "| 16|    2.73|           Levi Lima|73815441| NULL|Dra. Maria Luiza ...|            96594203|            Bradesco|                 cpf|          94516738066|     20/07/2021 09:17|          NULL|           NULL|          NULL|\n",
            "| 17|    0.54|        Otavio Cunha|85583961| NULL|       Elisa Moreira|            97003354|            Bradesco|                 cpf|          15248769094|     16/02/2022 10:16|          NULL|           NULL|          NULL|\n",
            "| 18|49836.72|Ana Carolina Oliv...|80200942| NULL|    Stella Fernandes|            31579145|                 BTG|                 cpf|          47609381250|     18/07/2022 22:46|          NULL|           NULL|          NULL|\n",
            "| 19|    9.68|        Levi Martins|12349481| NULL|Joao Guilherme Me...|            31102492|                 BTG|             celular|          11916824404|     26/02/2022 15:05|          NULL|           NULL|          NULL|\n",
            "| 20| 9837.22|          Noah Cunha|84622162| NULL|         Juan Mendes|            97805965|            Bradesco|             celular|          11944547225|     22/06/2021 05:39|          NULL|           NULL|          NULL|\n",
            "+---+--------+--------------------+--------+-----+--------------------+--------------------+--------------------+--------------------+---------------------+---------------------+--------------+---------------+--------------+\n",
            "only showing top 20 rows\n",
            "\n"
          ]
        }
      ]
    },
    {
      "cell_type": "code",
      "source": [
        "from os import times\n",
        "caminho_csv = './base_de_dados.csv'\n",
        "\n",
        "df = spark.read.csv(\n",
        "    path=caminho_csv,\n",
        "    header=True,\n",
        "    sep=';',\n",
        "    schema=schema_pix,\n",
        "    timestampFormat='dd/MM/yyyy HH:mm'\n",
        "    )\n"
      ],
      "metadata": {
        "id": "wtZ0srmBQSGf"
      },
      "execution_count": 12,
      "outputs": []
    },
    {
      "cell_type": "code",
      "source": [
        "df.show()"
      ],
      "metadata": {
        "colab": {
          "base_uri": "https://localhost:8080/"
        },
        "id": "CXWOdPe8ROFK",
        "outputId": "f07a7932-535b-45ed-8423-dc1692cb5397"
      },
      "execution_count": 13,
      "outputs": [
        {
          "output_type": "stream",
          "name": "stdout",
          "text": [
            "+---+--------+--------------------+--------+-----+--------------------+--------------------+--------------------+--------------------+---------------------+---------------------+--------------+---------------+--------------+\n",
            "| id|    nome|           sobrenome|   email|valor| parte_debitada_nome|parte_debitada_conta|parte_debitada_banco|parte_creditada_nome|parte_creditada_conta|parte_creditada_banco|chave_pix_tipo|chave_pix_valor|data_transacao|\n",
            "+---+--------+--------------------+--------+-----+--------------------+--------------------+--------------------+--------------------+---------------------+---------------------+--------------+---------------+--------------+\n",
            "|  1|    9.93|Dra. Ana Carolina...|79470453| NULL|       Maysa da Cruz|            67162333|                Itau|                 cpf|           8439752610|     18/02/2022 13:28|          NULL|           NULL|          NULL|\n",
            "|  2|   15.38|        Ana Caldeira|19689668| NULL|        Evelyn Sales|            60005091|            Bradesco|                 cpf|          27145380617|     08/04/2022 01:47|          NULL|           NULL|          NULL|\n",
            "|  3|   57.58|    Arthur Goncalves|18856899| NULL|          Maria Melo|            13496303|                 BTG|                 cpf|          16452937006|     14/07/2022 03:18|          NULL|           NULL|          NULL|\n",
            "|  4|53705.13|  Ana Julia Caldeira|22834741| NULL|   Ana Livia Almeida|            44695116|              Nubank|                 cpf|          26590384142|     15/01/2022 18:06|          NULL|           NULL|          NULL|\n",
            "|  5|25299.69|  Srta. Nicole Pinto| 3715882| NULL|Srta. Ana Laura d...|            21409465|              Nubank|                 cpf|          73486105280|     13/05/2022 11:04|          NULL|           NULL|          NULL|\n",
            "|  6| 7165.06|   Gabriela Ferreira| 2243037| NULL|       Larissa Souza|            10689552|                Itau|                 cpf|          96845371237|     11/09/2022 13:38|          NULL|           NULL|          NULL|\n",
            "|  7|    6.16|    Heloisa da Rocha|59778949| NULL|Dra. Vitoria Silv...|            56583792|              Nubank|                 cpf|          89064175357|     10/12/2021 12:37|          NULL|           NULL|          NULL|\n",
            "|  8|  136.36|Srta. Isadora Cor...|77102442| NULL|  Francisco da Costa|            96088386|              Nubank|                 cpf|          85907632429|     30/12/2021 23:18|          NULL|           NULL|          NULL|\n",
            "|  9|  574.39|   Dr. Lucas da Cruz|38501170| NULL|       Calebe da Luz|            19365554|            Bradesco|                 cpf|          64720189520|     21/06/2021 07:20|          NULL|           NULL|          NULL|\n",
            "| 10|   42.88|     Mirella Martins|29535709| NULL|        Danilo Lopes|            60064650|                Itau|                 cpf|          87014935232|     21/09/2022 17:19|          NULL|           NULL|          NULL|\n",
            "| 11|33629.97|Sr. Vitor Gabriel...|67010663| NULL|Sra. Lavinia Cald...|            48145941|              Nubank|                 cpf|          63542098124|     12/09/2022 00:29|          NULL|           NULL|          NULL|\n",
            "| 12| 4374.56|      Nathan Peixoto|22975623| NULL|        Diogo da Luz|            30302218|            Bradesco|                 cpf|          72908154323|     07/08/2022 17:01|          NULL|           NULL|          NULL|\n",
            "| 13|  507.18|       Miguel Araujo|75113657| NULL|Marcos Vinicius G...|            67418115|                Itau|                 cpf|          84763129031|     07/03/2021 12:34|          NULL|           NULL|          NULL|\n",
            "| 14|67758.87|     Juliana Correia| 4495167| NULL|    Davi Lucas Porto|            94395923|                 BTG|                 cpf|          97804215649|     24/03/2021 22:58|          NULL|           NULL|          NULL|\n",
            "| 15|  815.53|     Ana Laura Souza|79650252| NULL|        Isabel Costa|            28762988|                 BTG|                 cpf|          51824039689|     21/02/2022 11:25|          NULL|           NULL|          NULL|\n",
            "| 16|    2.73|           Levi Lima|73815441| NULL|Dra. Maria Luiza ...|            96594203|            Bradesco|                 cpf|          94516738066|     20/07/2021 09:17|          NULL|           NULL|          NULL|\n",
            "| 17|    0.54|        Otavio Cunha|85583961| NULL|       Elisa Moreira|            97003354|            Bradesco|                 cpf|          15248769094|     16/02/2022 10:16|          NULL|           NULL|          NULL|\n",
            "| 18|49836.72|Ana Carolina Oliv...|80200942| NULL|    Stella Fernandes|            31579145|                 BTG|                 cpf|          47609381250|     18/07/2022 22:46|          NULL|           NULL|          NULL|\n",
            "| 19|    9.68|        Levi Martins|12349481| NULL|Joao Guilherme Me...|            31102492|                 BTG|             celular|          11916824404|     26/02/2022 15:05|          NULL|           NULL|          NULL|\n",
            "| 20| 9837.22|          Noah Cunha|84622162| NULL|         Juan Mendes|            97805965|            Bradesco|             celular|          11944547225|     22/06/2021 05:39|          NULL|           NULL|          NULL|\n",
            "+---+--------+--------------------+--------+-----+--------------------+--------------------+--------------------+--------------------+---------------------+---------------------+--------------+---------------+--------------+\n",
            "only showing top 20 rows\n",
            "\n"
          ]
        }
      ]
    },
    {
      "cell_type": "code",
      "source": [
        "df_not_null = df.na.fill(0, subset=['valor'])"
      ],
      "metadata": {
        "id": "HH_DYWFPRPE5"
      },
      "execution_count": 14,
      "outputs": []
    },
    {
      "cell_type": "code",
      "source": [
        "df_2022 = df_not_null.filter((df_not_null.data_transacao >= '2022-01-01') & (df_not_null.data_transacao <= '2022-12-31'))"
      ],
      "metadata": {
        "id": "yZa9HyAzwXox"
      },
      "execution_count": 16,
      "outputs": []
    },
    {
      "cell_type": "code",
      "source": [
        "df_2022.write.parquet('output/df_2022')"
      ],
      "metadata": {
        "id": "J5PISX71xFha"
      },
      "execution_count": 17,
      "outputs": []
    },
    {
      "cell_type": "code",
      "source": [],
      "metadata": {
        "id": "OUYuRoR-yPR3"
      },
      "execution_count": null,
      "outputs": []
    }
  ]
}