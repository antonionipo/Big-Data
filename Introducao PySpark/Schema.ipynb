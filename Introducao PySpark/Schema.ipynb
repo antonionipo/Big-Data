{
  "nbformat": 4,
  "nbformat_minor": 0,
  "metadata": {
    "colab": {
      "provenance": [],
      "authorship_tag": "ABX9TyMphk0NCkLql4kNlRr71Men",
      "include_colab_link": true
    },
    "kernelspec": {
      "name": "python3",
      "display_name": "Python 3"
    },
    "language_info": {
      "name": "python"
    }
  },
  "cells": [
    {
      "cell_type": "markdown",
      "metadata": {
        "id": "view-in-github",
        "colab_type": "text"
      },
      "source": [
        "<a href=\"https://colab.research.google.com/github/antonionipo/Big-Data/blob/main/Introducao%20PySpark/Schema.ipynb\" target=\"_parent\"><img src=\"https://colab.research.google.com/assets/colab-badge.svg\" alt=\"Open In Colab\"/></a>"
      ]
    },
    {
      "cell_type": "code",
      "execution_count": 1,
      "metadata": {
        "colab": {
          "base_uri": "https://localhost:8080/"
        },
        "id": "bJ-yQcU9xdXd",
        "outputId": "b760ecf1-ae6f-4319-bc75-5df8941c8012"
      },
      "outputs": [
        {
          "output_type": "stream",
          "name": "stdout",
          "text": [
            "Requirement already satisfied: pyspark in /usr/local/lib/python3.11/dist-packages (3.5.4)\n",
            "Requirement already satisfied: py4j==0.10.9.7 in /usr/local/lib/python3.11/dist-packages (from pyspark) (0.10.9.7)\n"
          ]
        }
      ],
      "source": [
        "!pip install pyspark #--3.3.1"
      ]
    },
    {
      "cell_type": "code",
      "source": [
        "from pyspark.sql import SparkSession"
      ],
      "metadata": {
        "id": "1BeMMCvbxjqr"
      },
      "execution_count": 2,
      "outputs": []
    },
    {
      "cell_type": "code",
      "source": [
        "spark = SparkSession.builder.appName('Lendo CSV').getOrCreate()"
      ],
      "metadata": {
        "id": "4jQXNEuBxuBe"
      },
      "execution_count": 4,
      "outputs": []
    },
    {
      "cell_type": "code",
      "source": [
        "# Schema on read\n",
        "caminho_csv = './base_de_dados.csv'\n",
        "df = spark.read.csv(path=caminho_csv, header=True, sep=';')"
      ],
      "metadata": {
        "id": "yjgPiOZGxwY1"
      },
      "execution_count": 6,
      "outputs": []
    },
    {
      "cell_type": "code",
      "source": [
        "df.schema.fieldNames()"
      ],
      "metadata": {
        "colab": {
          "base_uri": "https://localhost:8080/"
        },
        "id": "jDJY7TwB0SvX",
        "outputId": "a5f63fff-cef4-4c31-929a-28fda30e33c4"
      },
      "execution_count": 7,
      "outputs": [
        {
          "output_type": "execute_result",
          "data": {
            "text/plain": [
              "['id',\n",
              " 'valor',\n",
              " 'parte_debitada_nome',\n",
              " 'parte_debitada_conta',\n",
              " 'parte_debitada_banco',\n",
              " 'parte_creditada_nome',\n",
              " 'parte_creditada_conta',\n",
              " 'parte_creditada_banco',\n",
              " 'chave_pix_tipo',\n",
              " 'chave_pix_valor',\n",
              " 'data_transacao']"
            ]
          },
          "metadata": {},
          "execution_count": 7
        }
      ]
    },
    {
      "cell_type": "code",
      "source": [
        "from pyspark.sql.types import StructType, StructField, IntegerType, DoubleType, StringType, TimestampType"
      ],
      "metadata": {
        "id": "vpyVxiVB089A"
      },
      "execution_count": 18,
      "outputs": []
    },
    {
      "cell_type": "code",
      "source": [
        "schema_pix = StructType([\n",
        "    StructField('id', IntegerType()),\n",
        "    StructField('valor', DoubleType()),\n",
        "])\n",
        "\n",
        "df = spark.read.csv(path=caminho_csv, header=True, sep=';', schema=schema_pix)\n",
        "\n",
        "df.show()"
      ],
      "metadata": {
        "colab": {
          "base_uri": "https://localhost:8080/"
        },
        "id": "jhza7qmC1Izb",
        "outputId": "7243d523-555a-45d5-f2b3-bfaa6a8a71fa"
      },
      "execution_count": 13,
      "outputs": [
        {
          "output_type": "stream",
          "name": "stdout",
          "text": [
            "+---+--------+\n",
            "| id|   valor|\n",
            "+---+--------+\n",
            "|  1|    9.93|\n",
            "|  2|   15.38|\n",
            "|  3|   57.58|\n",
            "|  4|53705.13|\n",
            "|  5|25299.69|\n",
            "|  6| 7165.06|\n",
            "|  7|    6.16|\n",
            "|  8|  136.36|\n",
            "|  9|  574.39|\n",
            "| 10|   42.88|\n",
            "| 11|33629.97|\n",
            "| 12| 4374.56|\n",
            "| 13|  507.18|\n",
            "| 14|67758.87|\n",
            "| 15|  815.53|\n",
            "| 16|    2.73|\n",
            "| 17|    0.54|\n",
            "| 18|49836.72|\n",
            "| 19|    9.68|\n",
            "| 20| 9837.22|\n",
            "+---+--------+\n",
            "only showing top 20 rows\n",
            "\n"
          ]
        }
      ]
    },
    {
      "cell_type": "code",
      "source": [
        "df.printSchema()"
      ],
      "metadata": {
        "colab": {
          "base_uri": "https://localhost:8080/"
        },
        "id": "xvGNJPaG13Z8",
        "outputId": "dfb1b20a-9cc6-46d0-e8e7-706c41571443"
      },
      "execution_count": 14,
      "outputs": [
        {
          "output_type": "stream",
          "name": "stdout",
          "text": [
            "root\n",
            " |-- id: integer (nullable = true)\n",
            " |-- valor: double (nullable = true)\n",
            "\n"
          ]
        }
      ]
    },
    {
      "cell_type": "code",
      "source": [
        "schema_pix = StructType([\n",
        "    StructField('id', IntegerType()),\n",
        "    StructField('valor', DoubleType()),\n",
        "    StructField('parte_debitada_nome', StringType()),\n",
        "    StructField('parte_debitada_conta', StringType()),\n",
        "    StructField('parte_debitada_banco', StringType()),\n",
        "    StructField('parte_creditada_nome', StringType()),\n",
        "    StructField('parte_creditada_conta', StringType()),\n",
        "    StructField('parte_creditada_banco', StringType()),\n",
        "    StructField('chave_pix_tipo', StringType()),\n",
        "    StructField('chave_pix_valor', StringType()),\n",
        "    StructField('data_transacao', TimestampType())\n",
        "])\n",
        "\n",
        "df = spark.read.csv(path=caminho_csv, header=True, sep=';', schema=schema_pix , timestampFormat=\"dd/MM/yyyy HH:mm\")\n",
        "\n",
        "df.show()"
      ],
      "metadata": {
        "colab": {
          "base_uri": "https://localhost:8080/"
        },
        "id": "zmojlfFw2Io2",
        "outputId": "ccabfa7d-0c52-4004-d840-14015166ad82"
      },
      "execution_count": 23,
      "outputs": [
        {
          "output_type": "stream",
          "name": "stdout",
          "text": [
            "+---+--------+--------------------+--------------------+--------------------+--------------------+---------------------+---------------------+--------------+---------------+-------------------+\n",
            "| id|   valor| parte_debitada_nome|parte_debitada_conta|parte_debitada_banco|parte_creditada_nome|parte_creditada_conta|parte_creditada_banco|chave_pix_tipo|chave_pix_valor|     data_transacao|\n",
            "+---+--------+--------------------+--------------------+--------------------+--------------------+---------------------+---------------------+--------------+---------------+-------------------+\n",
            "|  1|    9.93|Dra. Ana Carolina...|            79470453|              Nubank|       Maysa da Cruz|             67162333|                 Itau|           cpf|     8439752610|2022-02-18 13:28:00|\n",
            "|  2|   15.38|        Ana Caldeira|            19689668|                Itau|        Evelyn Sales|             60005091|             Bradesco|           cpf|    27145380617|2022-04-08 01:47:00|\n",
            "|  3|   57.58|    Arthur Goncalves|            18856899|            Bradesco|          Maria Melo|             13496303|                  BTG|           cpf|    16452937006|2022-07-14 03:18:00|\n",
            "|  4|53705.13|  Ana Julia Caldeira|            22834741|                Itau|   Ana Livia Almeida|             44695116|               Nubank|           cpf|    26590384142|2022-01-15 18:06:00|\n",
            "|  5|25299.69|  Srta. Nicole Pinto|             3715882|              Nubank|Srta. Ana Laura d...|             21409465|               Nubank|           cpf|    73486105280|2022-05-13 11:04:00|\n",
            "|  6| 7165.06|   Gabriela Ferreira|             2243037|              Nubank|       Larissa Souza|             10689552|                 Itau|           cpf|    96845371237|2022-09-11 13:38:00|\n",
            "|  7|    6.16|    Heloisa da Rocha|            59778949|                 BTG|Dra. Vitoria Silv...|             56583792|               Nubank|           cpf|    89064175357|2021-12-10 12:37:00|\n",
            "|  8|  136.36|Srta. Isadora Cor...|            77102442|              Nubank|  Francisco da Costa|             96088386|               Nubank|           cpf|    85907632429|2021-12-30 23:18:00|\n",
            "|  9|  574.39|   Dr. Lucas da Cruz|            38501170|                 BTG|       Calebe da Luz|             19365554|             Bradesco|           cpf|    64720189520|2021-06-21 07:20:00|\n",
            "| 10|   42.88|     Mirella Martins|            29535709|            Bradesco|        Danilo Lopes|             60064650|                 Itau|           cpf|    87014935232|2022-09-21 17:19:00|\n",
            "| 11|33629.97|Sr. Vitor Gabriel...|            67010663|                 BTG|Sra. Lavinia Cald...|             48145941|               Nubank|           cpf|    63542098124|2022-09-12 00:29:00|\n",
            "| 12| 4374.56|      Nathan Peixoto|            22975623|              Nubank|        Diogo da Luz|             30302218|             Bradesco|           cpf|    72908154323|2022-08-07 17:01:00|\n",
            "| 13|  507.18|       Miguel Araujo|            75113657|              Nubank|Marcos Vinicius G...|             67418115|                 Itau|           cpf|    84763129031|2021-03-07 12:34:00|\n",
            "| 14|67758.87|     Juliana Correia|             4495167|                Itau|    Davi Lucas Porto|             94395923|                  BTG|           cpf|    97804215649|2021-03-24 22:58:00|\n",
            "| 15|  815.53|     Ana Laura Souza|            79650252|                Itau|        Isabel Costa|             28762988|                  BTG|           cpf|    51824039689|2022-02-21 11:25:00|\n",
            "| 16|    2.73|           Levi Lima|            73815441|                 BTG|Dra. Maria Luiza ...|             96594203|             Bradesco|           cpf|    94516738066|2021-07-20 09:17:00|\n",
            "| 17|    0.54|        Otavio Cunha|            85583961|            Bradesco|       Elisa Moreira|             97003354|             Bradesco|           cpf|    15248769094|2022-02-16 10:16:00|\n",
            "| 18|49836.72|Ana Carolina Oliv...|            80200942|                Itau|    Stella Fernandes|             31579145|                  BTG|           cpf|    47609381250|2022-07-18 22:46:00|\n",
            "| 19|    9.68|        Levi Martins|            12349481|                Itau|Joao Guilherme Me...|             31102492|                  BTG|       celular|    11916824404|2022-02-26 15:05:00|\n",
            "| 20| 9837.22|          Noah Cunha|            84622162|            Bradesco|         Juan Mendes|             97805965|             Bradesco|       celular|    11944547225|2021-06-22 05:39:00|\n",
            "+---+--------+--------------------+--------------------+--------------------+--------------------+---------------------+---------------------+--------------+---------------+-------------------+\n",
            "only showing top 20 rows\n",
            "\n"
          ]
        }
      ]
    },
    {
      "cell_type": "code",
      "source": [],
      "metadata": {
        "id": "cRuST6LY25kO"
      },
      "execution_count": null,
      "outputs": []
    }
  ]
}