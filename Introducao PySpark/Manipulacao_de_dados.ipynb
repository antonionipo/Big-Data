{
  "nbformat": 4,
  "nbformat_minor": 0,
  "metadata": {
    "colab": {
      "provenance": [],
      "authorship_tag": "ABX9TyNzjqpkMvwNoggCpSauvjkU",
      "include_colab_link": true
    },
    "kernelspec": {
      "name": "python3",
      "display_name": "Python 3"
    },
    "language_info": {
      "name": "python"
    }
  },
  "cells": [
    {
      "cell_type": "markdown",
      "metadata": {
        "id": "view-in-github",
        "colab_type": "text"
      },
      "source": [
        "<a href=\"https://colab.research.google.com/github/antonionipo/Big-Data/blob/main/Introducao%20PySpark/Manipulacao_de_dados.ipynb\" target=\"_parent\"><img src=\"https://colab.research.google.com/assets/colab-badge.svg\" alt=\"Open In Colab\"/></a>"
      ]
    },
    {
      "cell_type": "code",
      "execution_count": 42,
      "metadata": {
        "colab": {
          "base_uri": "https://localhost:8080/"
        },
        "id": "NoOP_kcgXj_F",
        "outputId": "1dd05a24-872f-44aa-c3ad-3fcbcd88e814"
      },
      "outputs": [
        {
          "output_type": "stream",
          "name": "stdout",
          "text": [
            "Requirement already satisfied: pyspark in /usr/local/lib/python3.11/dist-packages (3.5.4)\n",
            "Requirement already satisfied: py4j==0.10.9.7 in /usr/local/lib/python3.11/dist-packages (from pyspark) (0.10.9.7)\n"
          ]
        }
      ],
      "source": [
        "!pip install pyspark"
      ]
    },
    {
      "cell_type": "code",
      "source": [
        "from pyspark.sql import SparkSession"
      ],
      "metadata": {
        "id": "mQ2ZMZhFXluh"
      },
      "execution_count": 43,
      "outputs": []
    },
    {
      "cell_type": "code",
      "source": [
        "spark = SparkSession.builder.appName('Lendo CSV').getOrCreate()"
      ],
      "metadata": {
        "id": "N5oF-HLeXn2H"
      },
      "execution_count": 44,
      "outputs": []
    },
    {
      "cell_type": "code",
      "source": [
        "caminho_csv = './base_de_dados.csv'\n",
        "\n",
        "df = spark.read.csv(\n",
        "    path=caminho_csv,\n",
        "    header=True,\n",
        "    sep=';'\n",
        "    )"
      ],
      "metadata": {
        "id": "f3OhB9WBXvbk"
      },
      "execution_count": 45,
      "outputs": []
    },
    {
      "cell_type": "code",
      "source": [
        "df.printSchema()"
      ],
      "metadata": {
        "colab": {
          "base_uri": "https://localhost:8080/"
        },
        "id": "1FilxfrQXvyz",
        "outputId": "8feec0c1-4cc8-493d-ab0f-62083ae28ff0"
      },
      "execution_count": 46,
      "outputs": [
        {
          "output_type": "stream",
          "name": "stdout",
          "text": [
            "root\n",
            " |-- id: string (nullable = true)\n",
            " |-- valor: string (nullable = true)\n",
            " |-- parte_debitada_nome: string (nullable = true)\n",
            " |-- parte_debitada_conta: string (nullable = true)\n",
            " |-- parte_debitada_banco: string (nullable = true)\n",
            " |-- parte_creditada_nome: string (nullable = true)\n",
            " |-- parte_creditada_conta: string (nullable = true)\n",
            " |-- parte_creditada_banco: string (nullable = true)\n",
            " |-- chave_pix_tipo: string (nullable = true)\n",
            " |-- chave_pix_valor: string (nullable = true)\n",
            " |-- data_transacao: string (nullable = true)\n",
            "\n"
          ]
        }
      ]
    },
    {
      "cell_type": "code",
      "source": [
        "from pyspark.sql.functions import col, to_timestamp, round\n",
        "\n",
        "df_cast = df.withColumn(\n",
        "    'id', col('id').cast('int')\n",
        "    ).withColumn(\n",
        "        'valor', col('valor').cast('double')\n",
        "        ).withColumn(\n",
        "            'data_transacao', to_timestamp('data_transacao', 'dd/MM/yyyy HH:mm')\n",
        "            )"
      ],
      "metadata": {
        "id": "t4YHkHw7XyAb"
      },
      "execution_count": 47,
      "outputs": []
    },
    {
      "cell_type": "code",
      "source": [
        "df_cast.printSchema()"
      ],
      "metadata": {
        "colab": {
          "base_uri": "https://localhost:8080/"
        },
        "id": "fAmLdqKlZmLr",
        "outputId": "3b68a089-64cb-4bed-9972-753f4391fbee"
      },
      "execution_count": 48,
      "outputs": [
        {
          "output_type": "stream",
          "name": "stdout",
          "text": [
            "root\n",
            " |-- id: integer (nullable = true)\n",
            " |-- valor: double (nullable = true)\n",
            " |-- parte_debitada_nome: string (nullable = true)\n",
            " |-- parte_debitada_conta: string (nullable = true)\n",
            " |-- parte_debitada_banco: string (nullable = true)\n",
            " |-- parte_creditada_nome: string (nullable = true)\n",
            " |-- parte_creditada_conta: string (nullable = true)\n",
            " |-- parte_creditada_banco: string (nullable = true)\n",
            " |-- chave_pix_tipo: string (nullable = true)\n",
            " |-- chave_pix_valor: string (nullable = true)\n",
            " |-- data_transacao: timestamp (nullable = true)\n",
            "\n"
          ]
        }
      ]
    },
    {
      "cell_type": "code",
      "source": [
        "df_cast.show()"
      ],
      "metadata": {
        "colab": {
          "base_uri": "https://localhost:8080/"
        },
        "id": "OJkJBc0EZoeC",
        "outputId": "f01bd532-04e7-4e20-f37b-29afe26e2545"
      },
      "execution_count": 49,
      "outputs": [
        {
          "output_type": "stream",
          "name": "stdout",
          "text": [
            "+---+--------+--------------------+--------------------+--------------------+--------------------+---------------------+---------------------+--------------+---------------+-------------------+\n",
            "| id|   valor| parte_debitada_nome|parte_debitada_conta|parte_debitada_banco|parte_creditada_nome|parte_creditada_conta|parte_creditada_banco|chave_pix_tipo|chave_pix_valor|     data_transacao|\n",
            "+---+--------+--------------------+--------------------+--------------------+--------------------+---------------------+---------------------+--------------+---------------+-------------------+\n",
            "|  1|    9.93|Dra. Ana Carolina...|            79470453|              Nubank|       Maysa da Cruz|             67162333|                 Itau|           cpf|     8439752610|2022-02-18 13:28:00|\n",
            "|  2|   15.38|        Ana Caldeira|            19689668|                Itau|        Evelyn Sales|             60005091|             Bradesco|           cpf|    27145380617|2022-04-08 01:47:00|\n",
            "|  3|   57.58|    Arthur Goncalves|            18856899|            Bradesco|          Maria Melo|             13496303|                  BTG|           cpf|    16452937006|2022-07-14 03:18:00|\n",
            "|  4|53705.13|  Ana Julia Caldeira|            22834741|                Itau|   Ana Livia Almeida|             44695116|               Nubank|           cpf|    26590384142|2022-01-15 18:06:00|\n",
            "|  5|25299.69|  Srta. Nicole Pinto|             3715882|              Nubank|Srta. Ana Laura d...|             21409465|               Nubank|           cpf|    73486105280|2022-05-13 11:04:00|\n",
            "|  6| 7165.06|   Gabriela Ferreira|             2243037|              Nubank|       Larissa Souza|             10689552|                 Itau|           cpf|    96845371237|2022-09-11 13:38:00|\n",
            "|  7|    6.16|    Heloisa da Rocha|            59778949|                 BTG|Dra. Vitoria Silv...|             56583792|               Nubank|           cpf|    89064175357|2021-12-10 12:37:00|\n",
            "|  8|  136.36|Srta. Isadora Cor...|            77102442|              Nubank|  Francisco da Costa|             96088386|               Nubank|           cpf|    85907632429|2021-12-30 23:18:00|\n",
            "|  9|  574.39|   Dr. Lucas da Cruz|            38501170|                 BTG|       Calebe da Luz|             19365554|             Bradesco|           cpf|    64720189520|2021-06-21 07:20:00|\n",
            "| 10|   42.88|     Mirella Martins|            29535709|            Bradesco|        Danilo Lopes|             60064650|                 Itau|           cpf|    87014935232|2022-09-21 17:19:00|\n",
            "| 11|33629.97|Sr. Vitor Gabriel...|            67010663|                 BTG|Sra. Lavinia Cald...|             48145941|               Nubank|           cpf|    63542098124|2022-09-12 00:29:00|\n",
            "| 12| 4374.56|      Nathan Peixoto|            22975623|              Nubank|        Diogo da Luz|             30302218|             Bradesco|           cpf|    72908154323|2022-08-07 17:01:00|\n",
            "| 13|  507.18|       Miguel Araujo|            75113657|              Nubank|Marcos Vinicius G...|             67418115|                 Itau|           cpf|    84763129031|2021-03-07 12:34:00|\n",
            "| 14|67758.87|     Juliana Correia|             4495167|                Itau|    Davi Lucas Porto|             94395923|                  BTG|           cpf|    97804215649|2021-03-24 22:58:00|\n",
            "| 15|  815.53|     Ana Laura Souza|            79650252|                Itau|        Isabel Costa|             28762988|                  BTG|           cpf|    51824039689|2022-02-21 11:25:00|\n",
            "| 16|    2.73|           Levi Lima|            73815441|                 BTG|Dra. Maria Luiza ...|             96594203|             Bradesco|           cpf|    94516738066|2021-07-20 09:17:00|\n",
            "| 17|    0.54|        Otavio Cunha|            85583961|            Bradesco|       Elisa Moreira|             97003354|             Bradesco|           cpf|    15248769094|2022-02-16 10:16:00|\n",
            "| 18|49836.72|Ana Carolina Oliv...|            80200942|                Itau|    Stella Fernandes|             31579145|                  BTG|           cpf|    47609381250|2022-07-18 22:46:00|\n",
            "| 19|    9.68|        Levi Martins|            12349481|                Itau|Joao Guilherme Me...|             31102492|                  BTG|       celular|    11916824404|2022-02-26 15:05:00|\n",
            "| 20| 9837.22|          Noah Cunha|            84622162|            Bradesco|         Juan Mendes|             97805965|             Bradesco|       celular|    11944547225|2021-06-22 05:39:00|\n",
            "+---+--------+--------------------+--------------------+--------------------+--------------------+---------------------+---------------------+--------------+---------------+-------------------+\n",
            "only showing top 20 rows\n",
            "\n"
          ]
        }
      ]
    },
    {
      "cell_type": "code",
      "source": [
        "df_10 = df_cast.select('id', 'valor').withColumn('valor_mais_10', round(col('valor') + 10, 2))"
      ],
      "metadata": {
        "id": "8tCPF9AXa2GA"
      },
      "execution_count": 50,
      "outputs": []
    },
    {
      "cell_type": "code",
      "source": [
        "df_10.show()"
      ],
      "metadata": {
        "colab": {
          "base_uri": "https://localhost:8080/"
        },
        "id": "sTaC9M2tfNDa",
        "outputId": "9e54ceaa-b270-45de-db10-20c79d204c34"
      },
      "execution_count": 51,
      "outputs": [
        {
          "output_type": "stream",
          "name": "stdout",
          "text": [
            "+---+--------+-------------+\n",
            "| id|   valor|valor_mais_10|\n",
            "+---+--------+-------------+\n",
            "|  1|    9.93|        19.93|\n",
            "|  2|   15.38|        25.38|\n",
            "|  3|   57.58|        67.58|\n",
            "|  4|53705.13|     53715.13|\n",
            "|  5|25299.69|     25309.69|\n",
            "|  6| 7165.06|      7175.06|\n",
            "|  7|    6.16|        16.16|\n",
            "|  8|  136.36|       146.36|\n",
            "|  9|  574.39|       584.39|\n",
            "| 10|   42.88|        52.88|\n",
            "| 11|33629.97|     33639.97|\n",
            "| 12| 4374.56|      4384.56|\n",
            "| 13|  507.18|       517.18|\n",
            "| 14|67758.87|     67768.87|\n",
            "| 15|  815.53|       825.53|\n",
            "| 16|    2.73|        12.73|\n",
            "| 17|    0.54|        10.54|\n",
            "| 18|49836.72|     49846.72|\n",
            "| 19|    9.68|        19.68|\n",
            "| 20| 9837.22|      9847.22|\n",
            "+---+--------+-------------+\n",
            "only showing top 20 rows\n",
            "\n"
          ]
        }
      ]
    },
    {
      "cell_type": "code",
      "source": [
        "df_10.drop('valor_mais_10').show()"
      ],
      "metadata": {
        "id": "9hY8D5pidSrS",
        "colab": {
          "base_uri": "https://localhost:8080/"
        },
        "outputId": "8affa762-16fc-4c0d-ce53-1a7f2aae9f4a"
      },
      "execution_count": 52,
      "outputs": [
        {
          "output_type": "stream",
          "name": "stdout",
          "text": [
            "+---+--------+\n",
            "| id|   valor|\n",
            "+---+--------+\n",
            "|  1|    9.93|\n",
            "|  2|   15.38|\n",
            "|  3|   57.58|\n",
            "|  4|53705.13|\n",
            "|  5|25299.69|\n",
            "|  6| 7165.06|\n",
            "|  7|    6.16|\n",
            "|  8|  136.36|\n",
            "|  9|  574.39|\n",
            "| 10|   42.88|\n",
            "| 11|33629.97|\n",
            "| 12| 4374.56|\n",
            "| 13|  507.18|\n",
            "| 14|67758.87|\n",
            "| 15|  815.53|\n",
            "| 16|    2.73|\n",
            "| 17|    0.54|\n",
            "| 18|49836.72|\n",
            "| 19|    9.68|\n",
            "| 20| 9837.22|\n",
            "+---+--------+\n",
            "only showing top 20 rows\n",
            "\n"
          ]
        }
      ]
    },
    {
      "cell_type": "code",
      "source": [
        "df_10.withColumnRenamed('valor', 'valor_antigo').show()"
      ],
      "metadata": {
        "colab": {
          "base_uri": "https://localhost:8080/"
        },
        "id": "3kbX5a_4ehCY",
        "outputId": "ebd8ee9a-b476-46e7-8be0-89db4425f403"
      },
      "execution_count": 53,
      "outputs": [
        {
          "output_type": "stream",
          "name": "stdout",
          "text": [
            "+---+------------+-------------+\n",
            "| id|valor_antigo|valor_mais_10|\n",
            "+---+------------+-------------+\n",
            "|  1|        9.93|        19.93|\n",
            "|  2|       15.38|        25.38|\n",
            "|  3|       57.58|        67.58|\n",
            "|  4|    53705.13|     53715.13|\n",
            "|  5|    25299.69|     25309.69|\n",
            "|  6|     7165.06|      7175.06|\n",
            "|  7|        6.16|        16.16|\n",
            "|  8|      136.36|       146.36|\n",
            "|  9|      574.39|       584.39|\n",
            "| 10|       42.88|        52.88|\n",
            "| 11|    33629.97|     33639.97|\n",
            "| 12|     4374.56|      4384.56|\n",
            "| 13|      507.18|       517.18|\n",
            "| 14|    67758.87|     67768.87|\n",
            "| 15|      815.53|       825.53|\n",
            "| 16|        2.73|        12.73|\n",
            "| 17|        0.54|        10.54|\n",
            "| 18|    49836.72|     49846.72|\n",
            "| 19|        9.68|        19.68|\n",
            "| 20|     9837.22|      9847.22|\n",
            "+---+------------+-------------+\n",
            "only showing top 20 rows\n",
            "\n"
          ]
        }
      ]
    },
    {
      "cell_type": "code",
      "source": [
        "df_cast.select('id', 'valor', 'chave_pix_tipo').filter(col('chave_pix_tipo') == 'cpf').show()"
      ],
      "metadata": {
        "colab": {
          "base_uri": "https://localhost:8080/"
        },
        "id": "ylxADcK8flgI",
        "outputId": "5fce07f3-62f3-4bc7-df11-32d592995bd9"
      },
      "execution_count": 54,
      "outputs": [
        {
          "output_type": "stream",
          "name": "stdout",
          "text": [
            "+---+--------+--------------+\n",
            "| id|   valor|chave_pix_tipo|\n",
            "+---+--------+--------------+\n",
            "|  1|    9.93|           cpf|\n",
            "|  2|   15.38|           cpf|\n",
            "|  3|   57.58|           cpf|\n",
            "|  4|53705.13|           cpf|\n",
            "|  5|25299.69|           cpf|\n",
            "|  6| 7165.06|           cpf|\n",
            "|  7|    6.16|           cpf|\n",
            "|  8|  136.36|           cpf|\n",
            "|  9|  574.39|           cpf|\n",
            "| 10|   42.88|           cpf|\n",
            "| 11|33629.97|           cpf|\n",
            "| 12| 4374.56|           cpf|\n",
            "| 13|  507.18|           cpf|\n",
            "| 14|67758.87|           cpf|\n",
            "| 15|  815.53|           cpf|\n",
            "| 16|    2.73|           cpf|\n",
            "| 17|    0.54|           cpf|\n",
            "| 18|49836.72|           cpf|\n",
            "| 41|   60.55|           cpf|\n",
            "| 42|    6.62|           cpf|\n",
            "+---+--------+--------------+\n",
            "only showing top 20 rows\n",
            "\n"
          ]
        }
      ]
    },
    {
      "cell_type": "code",
      "source": [
        "df_cast.na.drop('all', subset=['id', 'valor']).show()"
      ],
      "metadata": {
        "colab": {
          "base_uri": "https://localhost:8080/"
        },
        "id": "WwkiwrOPgDIN",
        "outputId": "f3910edf-2cb0-491d-e0a3-10bd6af8b50c"
      },
      "execution_count": 57,
      "outputs": [
        {
          "output_type": "stream",
          "name": "stdout",
          "text": [
            "+---+--------+--------------------+--------------------+--------------------+--------------------+---------------------+---------------------+--------------+---------------+-------------------+\n",
            "| id|   valor| parte_debitada_nome|parte_debitada_conta|parte_debitada_banco|parte_creditada_nome|parte_creditada_conta|parte_creditada_banco|chave_pix_tipo|chave_pix_valor|     data_transacao|\n",
            "+---+--------+--------------------+--------------------+--------------------+--------------------+---------------------+---------------------+--------------+---------------+-------------------+\n",
            "|  1|    9.93|Dra. Ana Carolina...|            79470453|              Nubank|       Maysa da Cruz|             67162333|                 Itau|           cpf|     8439752610|2022-02-18 13:28:00|\n",
            "|  2|   15.38|        Ana Caldeira|            19689668|                Itau|        Evelyn Sales|             60005091|             Bradesco|           cpf|    27145380617|2022-04-08 01:47:00|\n",
            "|  3|   57.58|    Arthur Goncalves|            18856899|            Bradesco|          Maria Melo|             13496303|                  BTG|           cpf|    16452937006|2022-07-14 03:18:00|\n",
            "|  4|53705.13|  Ana Julia Caldeira|            22834741|                Itau|   Ana Livia Almeida|             44695116|               Nubank|           cpf|    26590384142|2022-01-15 18:06:00|\n",
            "|  5|25299.69|  Srta. Nicole Pinto|             3715882|              Nubank|Srta. Ana Laura d...|             21409465|               Nubank|           cpf|    73486105280|2022-05-13 11:04:00|\n",
            "|  6| 7165.06|   Gabriela Ferreira|             2243037|              Nubank|       Larissa Souza|             10689552|                 Itau|           cpf|    96845371237|2022-09-11 13:38:00|\n",
            "|  7|    6.16|    Heloisa da Rocha|            59778949|                 BTG|Dra. Vitoria Silv...|             56583792|               Nubank|           cpf|    89064175357|2021-12-10 12:37:00|\n",
            "|  8|  136.36|Srta. Isadora Cor...|            77102442|              Nubank|  Francisco da Costa|             96088386|               Nubank|           cpf|    85907632429|2021-12-30 23:18:00|\n",
            "|  9|  574.39|   Dr. Lucas da Cruz|            38501170|                 BTG|       Calebe da Luz|             19365554|             Bradesco|           cpf|    64720189520|2021-06-21 07:20:00|\n",
            "| 10|   42.88|     Mirella Martins|            29535709|            Bradesco|        Danilo Lopes|             60064650|                 Itau|           cpf|    87014935232|2022-09-21 17:19:00|\n",
            "| 11|33629.97|Sr. Vitor Gabriel...|            67010663|                 BTG|Sra. Lavinia Cald...|             48145941|               Nubank|           cpf|    63542098124|2022-09-12 00:29:00|\n",
            "| 12| 4374.56|      Nathan Peixoto|            22975623|              Nubank|        Diogo da Luz|             30302218|             Bradesco|           cpf|    72908154323|2022-08-07 17:01:00|\n",
            "| 13|  507.18|       Miguel Araujo|            75113657|              Nubank|Marcos Vinicius G...|             67418115|                 Itau|           cpf|    84763129031|2021-03-07 12:34:00|\n",
            "| 14|67758.87|     Juliana Correia|             4495167|                Itau|    Davi Lucas Porto|             94395923|                  BTG|           cpf|    97804215649|2021-03-24 22:58:00|\n",
            "| 15|  815.53|     Ana Laura Souza|            79650252|                Itau|        Isabel Costa|             28762988|                  BTG|           cpf|    51824039689|2022-02-21 11:25:00|\n",
            "| 16|    2.73|           Levi Lima|            73815441|                 BTG|Dra. Maria Luiza ...|             96594203|             Bradesco|           cpf|    94516738066|2021-07-20 09:17:00|\n",
            "| 17|    0.54|        Otavio Cunha|            85583961|            Bradesco|       Elisa Moreira|             97003354|             Bradesco|           cpf|    15248769094|2022-02-16 10:16:00|\n",
            "| 18|49836.72|Ana Carolina Oliv...|            80200942|                Itau|    Stella Fernandes|             31579145|                  BTG|           cpf|    47609381250|2022-07-18 22:46:00|\n",
            "| 19|    9.68|        Levi Martins|            12349481|                Itau|Joao Guilherme Me...|             31102492|                  BTG|       celular|    11916824404|2022-02-26 15:05:00|\n",
            "| 20| 9837.22|          Noah Cunha|            84622162|            Bradesco|         Juan Mendes|             97805965|             Bradesco|       celular|    11944547225|2021-06-22 05:39:00|\n",
            "+---+--------+--------------------+--------------------+--------------------+--------------------+---------------------+---------------------+--------------+---------------+-------------------+\n",
            "only showing top 20 rows\n",
            "\n"
          ]
        }
      ]
    },
    {
      "cell_type": "code",
      "source": [
        "df_cast.na.fill(0, subset=['valor']).show()"
      ],
      "metadata": {
        "colab": {
          "base_uri": "https://localhost:8080/"
        },
        "id": "ddF-4A8VraKd",
        "outputId": "ed68d8ff-182e-4905-bac5-e01b0b7da73d"
      },
      "execution_count": 58,
      "outputs": [
        {
          "output_type": "stream",
          "name": "stdout",
          "text": [
            "+---+--------+--------------------+--------------------+--------------------+--------------------+---------------------+---------------------+--------------+---------------+-------------------+\n",
            "| id|   valor| parte_debitada_nome|parte_debitada_conta|parte_debitada_banco|parte_creditada_nome|parte_creditada_conta|parte_creditada_banco|chave_pix_tipo|chave_pix_valor|     data_transacao|\n",
            "+---+--------+--------------------+--------------------+--------------------+--------------------+---------------------+---------------------+--------------+---------------+-------------------+\n",
            "|  1|    9.93|Dra. Ana Carolina...|            79470453|              Nubank|       Maysa da Cruz|             67162333|                 Itau|           cpf|     8439752610|2022-02-18 13:28:00|\n",
            "|  2|   15.38|        Ana Caldeira|            19689668|                Itau|        Evelyn Sales|             60005091|             Bradesco|           cpf|    27145380617|2022-04-08 01:47:00|\n",
            "|  3|   57.58|    Arthur Goncalves|            18856899|            Bradesco|          Maria Melo|             13496303|                  BTG|           cpf|    16452937006|2022-07-14 03:18:00|\n",
            "|  4|53705.13|  Ana Julia Caldeira|            22834741|                Itau|   Ana Livia Almeida|             44695116|               Nubank|           cpf|    26590384142|2022-01-15 18:06:00|\n",
            "|  5|25299.69|  Srta. Nicole Pinto|             3715882|              Nubank|Srta. Ana Laura d...|             21409465|               Nubank|           cpf|    73486105280|2022-05-13 11:04:00|\n",
            "|  6| 7165.06|   Gabriela Ferreira|             2243037|              Nubank|       Larissa Souza|             10689552|                 Itau|           cpf|    96845371237|2022-09-11 13:38:00|\n",
            "|  7|    6.16|    Heloisa da Rocha|            59778949|                 BTG|Dra. Vitoria Silv...|             56583792|               Nubank|           cpf|    89064175357|2021-12-10 12:37:00|\n",
            "|  8|  136.36|Srta. Isadora Cor...|            77102442|              Nubank|  Francisco da Costa|             96088386|               Nubank|           cpf|    85907632429|2021-12-30 23:18:00|\n",
            "|  9|  574.39|   Dr. Lucas da Cruz|            38501170|                 BTG|       Calebe da Luz|             19365554|             Bradesco|           cpf|    64720189520|2021-06-21 07:20:00|\n",
            "| 10|   42.88|     Mirella Martins|            29535709|            Bradesco|        Danilo Lopes|             60064650|                 Itau|           cpf|    87014935232|2022-09-21 17:19:00|\n",
            "| 11|33629.97|Sr. Vitor Gabriel...|            67010663|                 BTG|Sra. Lavinia Cald...|             48145941|               Nubank|           cpf|    63542098124|2022-09-12 00:29:00|\n",
            "| 12| 4374.56|      Nathan Peixoto|            22975623|              Nubank|        Diogo da Luz|             30302218|             Bradesco|           cpf|    72908154323|2022-08-07 17:01:00|\n",
            "| 13|  507.18|       Miguel Araujo|            75113657|              Nubank|Marcos Vinicius G...|             67418115|                 Itau|           cpf|    84763129031|2021-03-07 12:34:00|\n",
            "| 14|67758.87|     Juliana Correia|             4495167|                Itau|    Davi Lucas Porto|             94395923|                  BTG|           cpf|    97804215649|2021-03-24 22:58:00|\n",
            "| 15|  815.53|     Ana Laura Souza|            79650252|                Itau|        Isabel Costa|             28762988|                  BTG|           cpf|    51824039689|2022-02-21 11:25:00|\n",
            "| 16|    2.73|           Levi Lima|            73815441|                 BTG|Dra. Maria Luiza ...|             96594203|             Bradesco|           cpf|    94516738066|2021-07-20 09:17:00|\n",
            "| 17|    0.54|        Otavio Cunha|            85583961|            Bradesco|       Elisa Moreira|             97003354|             Bradesco|           cpf|    15248769094|2022-02-16 10:16:00|\n",
            "| 18|49836.72|Ana Carolina Oliv...|            80200942|                Itau|    Stella Fernandes|             31579145|                  BTG|           cpf|    47609381250|2022-07-18 22:46:00|\n",
            "| 19|    9.68|        Levi Martins|            12349481|                Itau|Joao Guilherme Me...|             31102492|                  BTG|       celular|    11916824404|2022-02-26 15:05:00|\n",
            "| 20| 9837.22|          Noah Cunha|            84622162|            Bradesco|         Juan Mendes|             97805965|             Bradesco|       celular|    11944547225|2021-06-22 05:39:00|\n",
            "+---+--------+--------------------+--------------------+--------------------+--------------------+---------------------+---------------------+--------------+---------------+-------------------+\n",
            "only showing top 20 rows\n",
            "\n"
          ]
        }
      ]
    },
    {
      "cell_type": "code",
      "source": [
        "df_cast.select('chave_pix_tipo').groupBy('chave_pix_tipo').count().show()"
      ],
      "metadata": {
        "colab": {
          "base_uri": "https://localhost:8080/"
        },
        "id": "cXUNiPhmr3iK",
        "outputId": "979c3cee-5c64-4889-e91f-938762629586"
      },
      "execution_count": 59,
      "outputs": [
        {
          "output_type": "stream",
          "name": "stdout",
          "text": [
            "+--------------+-----+\n",
            "|chave_pix_tipo|count|\n",
            "+--------------+-----+\n",
            "|       celular|   22|\n",
            "|         email|   29|\n",
            "|           cpf|   49|\n",
            "+--------------+-----+\n",
            "\n"
          ]
        }
      ]
    },
    {
      "cell_type": "code",
      "source": [
        "df_cast.select('valor', 'chave_pix_tipo').groupBy('chave_pix_tipo').avg('valor').show()"
      ],
      "metadata": {
        "colab": {
          "base_uri": "https://localhost:8080/"
        },
        "id": "GlLuPXj2sTJ6",
        "outputId": "f3980c9f-a900-4b72-8881-1eb93c8dc827"
      },
      "execution_count": 60,
      "outputs": [
        {
          "output_type": "stream",
          "name": "stdout",
          "text": [
            "+--------------+------------------+\n",
            "|chave_pix_tipo|        avg(valor)|\n",
            "+--------------+------------------+\n",
            "|       celular| 9444.475454545454|\n",
            "|         email|          17207.22|\n",
            "|           cpf|13459.456122448973|\n",
            "+--------------+------------------+\n",
            "\n"
          ]
        }
      ]
    },
    {
      "cell_type": "code",
      "source": [],
      "metadata": {
        "id": "Zmtl3HRCsc6d"
      },
      "execution_count": null,
      "outputs": []
    }
  ]
}